{
 "cells": [
  {
   "cell_type": "code",
   "execution_count": 2,
   "metadata": {},
   "outputs": [],
   "source": [
    "# εισαγωγή βιβλιοθηκών\n",
    "import numpy as np\n",
    "import bz2\n",
    "import re\n",
    "import sklearn"
   ]
  },
  {
   "cell_type": "code",
   "execution_count": 3,
   "metadata": {},
   "outputs": [],
   "source": [
    "# συνάρτηση που θα διαβάζει τα δεδομένα\n",
    "# από το κείμενο\n",
    "def get_labels_and_texts(file):\n",
    "    #αρχικοποιούμε τις λίστες labels και text\n",
    "    labels = []\n",
    "    texts = []\n",
    "    # για κάθε γραμμη του αρχείου που διαβάζουμε\n",
    "    for line in bz2.BZ2File(file):\n",
    "        # το κάνουμε decode σε utf-8\n",
    "        x = line.decode(\"utf-8\")\n",
    "        # προσθέτουμε στη λίστα lables την πληροφορία\n",
    "        # αν η βαθμολογία είναι αρνητική ή θετική\n",
    "        labels.append(int(x[9]) - 1)\n",
    "        # προσθέτουμε στη λίστα text την κριτική του χρήστη\n",
    "        texts.append(x[10:].strip())\n",
    "\n",
    "    return np.array(labels), texts\n",
    "\n",
    "# κάνουμε επεξεργασία των αρχείων του dataset μας\n",
    "train_labels, train_texts = get_labels_and_texts('train.ft.txt.bz2')\n",
    "test_labels, test_texts = get_labels_and_texts('test.ft.txt.bz2')"
   ]
  },
  {
   "cell_type": "code",
   "execution_count": 5,
   "metadata": {},
   "outputs": [
    {
     "data": {
      "text/plain": [
       "1"
      ]
     },
     "execution_count": 5,
     "metadata": {},
     "output_type": "execute_result"
    }
   ],
   "source": [
    "# το label της κριτικής (0 για αρνητικό συνάισθημα και 1 για θετικό)\n",
    "train_labels[0]"
   ]
  },
  {
   "cell_type": "code",
   "execution_count": 6,
   "metadata": {},
   "outputs": [
    {
     "data": {
      "text/plain": [
       "'Stuning even for the non-gamer: This sound track was beautiful! It paints the senery in your mind so well I would recomend it even to people who hate vid. game music! I have played the game Chrono Cross but out of all of the games I have ever played it has the best music! It backs away from crude keyboarding and takes a fresher step with grate guitars and soulful orchestras. It would impress anyone who cares to listen! ^_^'"
      ]
     },
     "execution_count": 6,
     "metadata": {},
     "output_type": "execute_result"
    }
   ],
   "source": [
    "# το αντίστοιχο κείμενο της κριτικής\n",
    "train_texts[0]"
   ]
  },
  {
   "cell_type": "code",
   "execution_count": 7,
   "metadata": {},
   "outputs": [],
   "source": [
    "# κρατάμε τα πρώτα 3000 στοιχεία για εξοικονόμηση χρόνου (διαφροτετικά το πρόγραμμα θα πάρει ΠΟΛΥ ώρα)\n",
    "train_labels=train_labels[0:3000]\n",
    "train_texts=train_texts[0:3000]"
   ]
  },
  {
   "cell_type": "code",
   "execution_count": 8,
   "metadata": {},
   "outputs": [],
   "source": [
    "def normalize_texts(texts):\n",
    "    # regex καν΄όνες\n",
    "    NON_ALPHANUM = re.compile(r'[\\W]')\n",
    "    NON_ASCII = re.compile(r'[^a-z0-1\\s]')\n",
    "    # αρχικοποίηση λίστας\n",
    "    normalized_texts = []\n",
    "    for text in texts:\n",
    "        # μετατρέπουμε όλες τις λέξεις σε μικρά γράμματα\n",
    "        # και το αποθηκεύουμε σε μια μεταβλητή\n",
    "        lower = text.lower()\n",
    "        # αφαιρούμε περιττά συμβολα (!,@ κτλ) από το κείμενο lower\n",
    "        # και το αντικαθιστούμε με τον κενό χαρακτήρα\n",
    "        no_punctuation = NON_ALPHANUM.sub(r' ', lower)\n",
    "        no_non_ascii = NON_ASCII.sub(r'', no_punctuation)\n",
    "        # το κανονικοποιημένο κείμενο το αποθηκεύουμε στη λιστα που\n",
    "        # θα επιστρέψουμε\n",
    "        normalized_texts.append(no_non_ascii)\n",
    "    return normalized_texts\n",
    "\n",
    "# εφαρμόζουμε την κανονικοποίηση στις λίστες με τα κείμενα\n",
    "train_texts = normalize_texts(train_texts)\n",
    "test_texts = normalize_texts(test_texts)"
   ]
  },
  {
   "cell_type": "code",
   "execution_count": 9,
   "metadata": {},
   "outputs": [
    {
     "data": {
      "text/plain": [
       "'stuning even for the non gamer  this sound track was beautiful  it paints the senery in your mind so well i would recomend it even to people who hate vid  game music  i have played the game chrono cross but out of all of the games i have ever played it has the best music  it backs away from crude keyboarding and takes a fresher step with grate guitars and soulful orchestras  it would impress anyone who cares to listen    '"
      ]
     },
     "execution_count": 9,
     "metadata": {},
     "output_type": "execute_result"
    }
   ],
   "source": [
    "# κείμενο μετά την επεξεργασία που του κάναμε\n",
    "train_texts[0]"
   ]
  },
  {
   "cell_type": "code",
   "execution_count": 17,
   "metadata": {},
   "outputs": [],
   "source": [
    "# κανονικοποίηση κειμένων σε μορφή πινάκων\n",
    "# θέτουμε το binary = True έτσι ώστε όλες οι μη μηδενικές μετρήσεις\n",
    "# να γίνονται ίσες με 1. Αυτό το κάνουμε καθώς το μοντέλο μας \n",
    "# σαν output θα μας εμφανίζει 0 ή 1.\n",
    "count_vect = sklearn.feature_extraction.text.CountVectorizer(binary=True)\n",
    "\n",
    "# εφαρμόζουμε τον count vector στα train texts\n",
    "count_vect.fit(train_texts)\n",
    "# στη συνέχεια τα κάνουμε transform, αυτό το κάνομε διότι μετά από\n",
    "# αυτό όλα τα δεδομένα θα είναι ομοιόμορφα κατανεμημένα γύρω από τη τιμή 0 και 1.\n",
    "# και η κάθε τιμή κάθε δεδομένου θα είναι μοναδικά, αυτό το κάνουμε για \n",
    "# την καλύτερη απόδοση του μοντέλου\n",
    "x = count_vect.transform(train_texts)\n",
    "# το εφαρμόζουμε και στα test_texts\n",
    "x_test = count_vect.transform(test_texts)"
   ]
  },
  {
   "cell_type": "code",
   "execution_count": 18,
   "metadata": {},
   "outputs": [
    {
     "name": "stdout",
     "output_type": "stream",
     "text": [
      "Accuracy: 0.8146666666666667\n"
     ]
    }
   ],
   "source": [
    "# στη συνέχεια χωρίζουμε τα δεδόμενα σε train και test , το 75% των δεδομένων\n",
    "# θα χρησιμοποιηθεί για την εκπαίδευση και τα υπόλοιπα 25 για το τεστάρισμα\n",
    "x_train, x_val, y_train, y_val = sklearn.model_selection.train_test_split(x, train_labels, train_size = 0.75)\n",
    "\n",
    "# Εφαρμογή αλγορίθμου logistic regression\n",
    "lr = sklearn.linear_model.LogisticRegression()\n",
    "# Κάνουμε train με τα δεδομένα μας\n",
    "lr.fit(x_train, y_train)\n",
    "# Εκτύπωση του Accuracy του μοντέλου\n",
    "print (f\"Accuracy: {sklearn.metrics.accuracy_score(y_val, lr.predict(x_val))}\")"
   ]
  },
  {
   "cell_type": "code",
   "execution_count": 23,
   "metadata": {},
   "outputs": [
    {
     "name": "stdout",
     "output_type": "stream",
     "text": [
      "Prediction: It's a negative review\n",
      "In reality: It's a negative review\n",
      "-------------\n",
      "dvd player crapped out after one year  i also began having the incorrect disc problems that i ve read about on here  the vcr still works  but hte dvd side is useless  i understand that dvd players sometimes just quit on you  but after not even one year  to me that s a sign on bad quality  i m giving up jvc after this as well  i m sticking to sony or giving another brand a shot \n"
     ]
    }
   ],
   "source": [
    "# θέση κριτικής που θα εξετάσουμε\n",
    "p = 5\n",
    "# η πρόβλεψη του μοντέλου\n",
    "if lr.predict(x_test[p]) == 1:\n",
    "    print(\"Prediction: It's a positive review\")\n",
    "else:\n",
    "    print(\"Prediction: It's a negative review\")\n",
    "\n",
    "# η πραγματική τιμή\n",
    "if test_labels[p] == 1:\n",
    "    print(\"In reality: It's a positive review\")\n",
    "else:\n",
    "    print(\"In reality: It's a negative review\")\n",
    "\n",
    "print(\"-------------\")\n",
    "# το κείμενο της κριτικής\n",
    "print(test_texts[p])\n",
    "\n"
   ]
  },
  {
   "cell_type": "code",
   "execution_count": 24,
   "metadata": {},
   "outputs": [
    {
     "name": "stdout",
     "output_type": "stream",
     "text": [
      "[1]\n",
      "[0]\n"
     ]
    }
   ],
   "source": [
    "# εξέταση σε δικιές μας κριτικές\n",
    "print(lr.predict(count_vect.transform([\"The new applewatch is my favourite product of apple\"])))\n",
    "\n",
    "print(lr.predict(count_vect.transform([\"Samsung s6 phone is so bad, i waste my money on it\"])))"
   ]
  },
  {
   "cell_type": "code",
   "execution_count": 25,
   "metadata": {},
   "outputs": [
    {
     "name": "stdout",
     "output_type": "stream",
     "text": [
      "[1]\n",
      "[0]\n"
     ]
    }
   ],
   "source": [
    "# εξέταση σε δικιές μας κριτικές\n",
    "print(lr.predict(count_vect.transform([\"The new applewatch is my favourite product of apple\"])))\n",
    "\n",
    "print(lr.predict(count_vect.transform([\"Samsung s6 phone is so bad, i waste my money on it\"])))"
   ]
  },
  {
   "cell_type": "code",
   "execution_count": 26,
   "metadata": {},
   "outputs": [
    {
     "name": "stdout",
     "output_type": "stream",
     "text": [
      "[1]\n"
     ]
    }
   ],
   "source": [
    "print(lr.predict(count_vect.transform([\"I love Rocky movies\"])))"
   ]
  }
 ],
 "metadata": {
  "kernelspec": {
   "display_name": "Python 3",
   "language": "python",
   "name": "python3"
  },
  "language_info": {
   "codemirror_mode": {
    "name": "ipython",
    "version": 3
   },
   "file_extension": ".py",
   "mimetype": "text/x-python",
   "name": "python",
   "nbconvert_exporter": "python",
   "pygments_lexer": "ipython3",
   "version": "3.8.6"
  }
 },
 "nbformat": 4,
 "nbformat_minor": 4
}
